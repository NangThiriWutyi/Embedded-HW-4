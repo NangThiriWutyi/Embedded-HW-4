{
  "nbformat": 4,
  "nbformat_minor": 0,
  "metadata": {
    "colab": {
      "provenance": []
    },
    "kernelspec": {
      "name": "python3",
      "display_name": "Python 3"
    },
    "language_info": {
      "name": "python"
    }
  },
  "cells": [
    {
      "cell_type": "code",
      "execution_count": 1,
      "metadata": {
        "colab": {
          "base_uri": "https://localhost:8080/"
        },
        "id": "MqXxsUCkJ6Rd",
        "outputId": "b22c3e33-f6c0-4787-f6b5-802254c6a75e"
      },
      "outputs": [
        {
          "output_type": "stream",
          "name": "stdout",
          "text": [
            "True\n",
            "False\n"
          ]
        }
      ],
      "source": [
        "class LinkedList:\n",
        "    def __init__(self, value, next_node=None):\n",
        "        self.value = value\n",
        "        self.next_node = next_node\n",
        "\n",
        "def cntn_link(s, elm):\n",
        "    current = s\n",
        "    while current is not None:\n",
        "        if current.value == elm:\n",
        "            return True\n",
        "        current = current.next_node\n",
        "    return False\n",
        "\n",
        "# Test cases\n",
        "if __name__ == \"__main__\":\n",
        "    # Define linked list elements\n",
        "    ll = LinkedList(1, LinkedList(2, LinkedList(3)))\n",
        "\n",
        "    # Test cases\n",
        "    print(cntn_link(ll, 1))  # Output: True\n",
        "    print(cntn_link(ll, 4))  # Output: False\n"
      ]
    },
    {
      "cell_type": "code",
      "source": [
        "class LinkedList:\n",
        "    def __init__(self, value, next_node=None):\n",
        "        self.value = value\n",
        "        self.next_node = next_node\n",
        "\n",
        "def prnt_lnk(s):\n",
        "    result = \"<\"\n",
        "    current = s\n",
        "    while current is not None:\n",
        "        result += str(current.value) + \" \"\n",
        "        current = current.next_node\n",
        "    result = result.rstrip() + \">\"\n",
        "    print(result)\n",
        "\n",
        "# Test case\n",
        "if __name__ == \"__main__\":\n",
        "    # Define linked list elements\n",
        "    ll = LinkedList(1, LinkedList(2, LinkedList(3, LinkedList(4))))\n",
        "\n",
        "    # Test case\n",
        "    prnt_lnk(ll)  # Output: <1 2 3 4>\n"
      ],
      "metadata": {
        "colab": {
          "base_uri": "https://localhost:8080/"
        },
        "id": "iOk8SY5MM8wl",
        "outputId": "79f3dbe0-7331-4a01-86d8-1ca4089aaee1"
      },
      "execution_count": 2,
      "outputs": [
        {
          "output_type": "stream",
          "name": "stdout",
          "text": [
            "<1 2 3 4>\n"
          ]
        }
      ]
    },
    {
      "cell_type": "code",
      "source": [
        "class LinkedList:\n",
        "    def __init__(self, value, next_node=None):\n",
        "        self.value = value\n",
        "        self.next_node = next_node\n",
        "\n",
        "def rvrs_lnk(s):\n",
        "    reversed_list = None\n",
        "    current = s\n",
        "    while current is not None:\n",
        "        reversed_list = LinkedList(current.value, reversed_list)\n",
        "        current = current.next_node\n",
        "    return reversed_list\n",
        "\n",
        "def print_linked_list(ll):\n",
        "    result = \"[\"\n",
        "    current = ll\n",
        "    while current is not None:\n",
        "        result += str(current.value)\n",
        "        if current.next_node is not None:\n",
        "            result += \", \"\n",
        "        current = current.next_node\n",
        "    result += \"]\"\n",
        "    print(result)\n",
        "\n",
        "# Test case\n",
        "if __name__ == \"__main__\":\n",
        "    # Define linked list elements\n",
        "    ll = LinkedList(1, LinkedList(2, LinkedList(3, LinkedList(4))))\n",
        "\n",
        "    # Reverse the linked list\n",
        "    reversed_ll = rvrs_lnk(ll)\n",
        "\n",
        "    # Print the reversed linked list\n",
        "    print_linked_list(reversed_ll)  # Output: [4, 3, 2, 1]\n"
      ],
      "metadata": {
        "colab": {
          "base_uri": "https://localhost:8080/"
        },
        "id": "GGbK62F-NHqY",
        "outputId": "495ec354-e47f-4f46-b3f6-c6fd55648cc5"
      },
      "execution_count": 3,
      "outputs": [
        {
          "output_type": "stream",
          "name": "stdout",
          "text": [
            "[4, 3, 2, 1]\n"
          ]
        }
      ]
    },
    {
      "cell_type": "code",
      "source": [
        "class LinkedList:\n",
        "    def __init__(self, value, next_node=None):\n",
        "        self.value = value\n",
        "        self.next_node = next_node\n",
        "\n",
        "def srt(lnk):\n",
        "    current = lnk\n",
        "    while current is not None and current.next_node is not None:\n",
        "        if current.value > current.next_node.value:\n",
        "            return False\n",
        "        current = current.next_node\n",
        "    return True\n",
        "\n",
        "# Test cases\n",
        "if __name__ == \"__main__\":\n",
        "    # Define linked lists\n",
        "    lnk1 = LinkedList(1, LinkedList(2, LinkedList(3, LinkedList(4))))\n",
        "    lnk2 = LinkedList(1, LinkedList(3, LinkedList(2, LinkedList(4, LinkedList(5)))))\n",
        "    lnk3 = LinkedList(3, LinkedList(3, LinkedList(3)))\n",
        "\n",
        "    # Test cases\n",
        "    print(srt(lnk1))  # Output: True\n",
        "    print(srt(lnk2))  # Output: False\n",
        "    print(srt(lnk3))  # Output: True\n"
      ],
      "metadata": {
        "colab": {
          "base_uri": "https://localhost:8080/"
        },
        "id": "j0ZXNF5ONkdF",
        "outputId": "6941dac1-022c-435a-effd-64d5f343ac76"
      },
      "execution_count": 5,
      "outputs": [
        {
          "output_type": "stream",
          "name": "stdout",
          "text": [
            "True\n",
            "False\n",
            "True\n"
          ]
        }
      ]
    },
    {
      "cell_type": "code",
      "source": [
        "class LinkedList:\n",
        "    def __init__(self, value, next_node=None):\n",
        "        self.value = value\n",
        "        self.next_node = next_node\n",
        "\n",
        "def sum_lnk(lnk, g):\n",
        "    total_sum = 0\n",
        "    current = lnk\n",
        "    while current is not None:\n",
        "        total_sum += g(current.value)\n",
        "        current = current.next_node\n",
        "    return total_sum\n",
        "\n",
        "# Test cases\n",
        "if __name__ == \"__main__\":\n",
        "    # Define linked lists\n",
        "    lnk1 = LinkedList(1, LinkedList(2, LinkedList(3, LinkedList(4))))\n",
        "    lnk2 = LinkedList(3, LinkedList(5, LinkedList(4, LinkedList(6))))\n",
        "\n",
        "    # Define functions\n",
        "    sqr = lambda x: x * x\n",
        "    dbl = lambda y: 2 * y\n",
        "\n",
        "    # Test cases\n",
        "    print(sum_lnk(lnk1, sqr))  # Output: 30 (sqr(1) + sqr(2) + sqr(3) + sqr(4))\n",
        "    print(sum_lnk(lnk2, dbl))  # Output: 36 (dbl(3) + dbl(5) + dbl(4) + dbl(6))\n"
      ],
      "metadata": {
        "colab": {
          "base_uri": "https://localhost:8080/"
        },
        "id": "kmWrF9pdNorh",
        "outputId": "bac3ca64-72fe-4598-9c6e-14f99d2baa56"
      },
      "execution_count": 6,
      "outputs": [
        {
          "output_type": "stream",
          "name": "stdout",
          "text": [
            "30\n",
            "36\n"
          ]
        }
      ]
    },
    {
      "cell_type": "code",
      "source": [
        "class Link:\n",
        "    def __init__(self, first, rest=None):\n",
        "        self.first = first\n",
        "        self.rest = rest\n",
        "\n",
        "    def __repr__(self):\n",
        "        if self.rest is None:\n",
        "            return f\"[{self.first}]\"\n",
        "        return f\"[{self.first}, {self.rest}]\"\n",
        "\n",
        "def change(lnk, u, v):\n",
        "    if lnk is None:\n",
        "        return None\n",
        "\n",
        "    if lnk.first == u:\n",
        "        lnk.first = v\n",
        "\n",
        "    lnk.rest = change(lnk.rest, u, v)\n",
        "\n",
        "    return lnk\n",
        "\n",
        "# Test the function\n",
        "l = Link(1, Link(2, Link(3)))\n",
        "n = change(l, 3, 1)\n",
        "print(n)  # Output: [1, [2, [1]]]\n",
        "m = change(n, 1, 2)\n",
        "print(m)  # Output: [2, [2, [2]]]\n",
        "o = change(m, 5, 1)\n",
        "print(o)  # Output: [2, [2, [2]]]\n"
      ],
      "metadata": {
        "colab": {
          "base_uri": "https://localhost:8080/"
        },
        "id": "UrYR4WRoW7Rg",
        "outputId": "70a24083-38f3-4233-bdb3-8115faea6bf9"
      },
      "execution_count": 15,
      "outputs": [
        {
          "output_type": "stream",
          "name": "stdout",
          "text": [
            "[1, [2, [1]]]\n",
            "[2, [2, [2]]]\n",
            "[2, [2, [2]]]\n"
          ]
        }
      ]
    },
    {
      "cell_type": "code",
      "source": [
        "class Link:\n",
        "    def __init__(self, first, rest=None):\n",
        "        self.first = first\n",
        "        self.rest = rest\n",
        "\n",
        "    def __repr__(self):\n",
        "        if self.rest is None:\n",
        "            return f\"[{self.first}]\"\n",
        "        return f\"[{self.first}, {self.rest}]\"\n",
        "\n",
        "def apnd(lnk, m):\n",
        "    if lnk.rest is None:  # If lnk is the last element\n",
        "        lnk.rest = Link(m)\n",
        "    else:\n",
        "        apnd(lnk.rest, m)\n",
        "    return lnk\n",
        "\n",
        "# Test the function\n",
        "l = Link(1, Link(2, Link(3)))\n",
        "n = apnd(l, 4)\n",
        "print(n)  # Output: [1, [2, [3, [4]]]]\n"
      ],
      "metadata": {
        "colab": {
          "base_uri": "https://localhost:8080/"
        },
        "id": "8pHIXPFnW2IL",
        "outputId": "2ecfb622-c276-405c-e888-fb2e2b7832fa"
      },
      "execution_count": 14,
      "outputs": [
        {
          "output_type": "stream",
          "name": "stdout",
          "text": [
            "[1, [2, [3, [4]]]]\n"
          ]
        }
      ]
    },
    {
      "cell_type": "code",
      "source": [
        "class Link:\n",
        "    def __init__(self, first, rest=None):\n",
        "        self.first = first\n",
        "        self.rest = rest\n",
        "\n",
        "    def __repr__(self):\n",
        "        if self.rest is None:\n",
        "            return f\"[{self.first}]\"\n",
        "        return f\"[{self.first}, {self.rest}]\"\n",
        "\n",
        "def insrt(l, elm, ind):\n",
        "    if ind == 0:\n",
        "        return Link(elm, l)\n",
        "    if l.rest is None:  # Reached the end of the list\n",
        "        l.rest = Link(elm)\n",
        "        return l\n",
        "    l.rest = insrt(l.rest, elm, ind - 1)\n",
        "    return l\n",
        "\n",
        "# Test the function\n",
        "l = Link(11, Link(12, Link(13)))\n",
        "n = insrt(l, 2021, 1)\n",
        "print(n)  # Output: [11, [2021, [12, [13]]]]\n",
        "m = insrt(n, 2022, 20)\n",
        "print(m)  # Output: [11, [2021, [12, [13, [2022]]]]]\n"
      ],
      "metadata": {
        "colab": {
          "base_uri": "https://localhost:8080/"
        },
        "id": "ElFSSRdBWm7v",
        "outputId": "677b20a2-1294-4cf7-e011-1a6af4e6e35f"
      },
      "execution_count": 13,
      "outputs": [
        {
          "output_type": "stream",
          "name": "stdout",
          "text": [
            "[11, [2021, [12, [13]]]]\n",
            "[11, [2021, [12, [13, [2022]]]]]\n"
          ]
        }
      ]
    }
  ]
}